{
  "nbformat": 4,
  "nbformat_minor": 0,
  "metadata": {
    "colab": {
      "provenance": [],
      "authorship_tag": "ABX9TyMisl3u5nIm3rlygCaxZbdz",
      "include_colab_link": true
    },
    "kernelspec": {
      "name": "python3",
      "display_name": "Python 3"
    },
    "language_info": {
      "name": "python"
    }
  },
  "cells": [
    {
      "cell_type": "markdown",
      "metadata": {
        "id": "view-in-github",
        "colab_type": "text"
      },
      "source": [
        "<a href=\"https://colab.research.google.com/github/MCalenda/Q-DELOREAN/blob/main/notebooks/w2v_nn.ipynb\" target=\"_parent\"><img src=\"https://colab.research.google.com/assets/colab-badge.svg\" alt=\"Open In Colab\"/></a>"
      ]
    },
    {
      "cell_type": "markdown",
      "source": [
        "## Mount Google Drive"
      ],
      "metadata": {
        "id": "h_BhQLhsKfeR"
      }
    },
    {
      "cell_type": "code",
      "source": [
        "from google.colab import drive\n",
        "drive.mount('/content/drive')\n",
        "%cd /content/drive/MyDrive/SE4AI-Quantum/Q-DELOREAN"
      ],
      "metadata": {
        "id": "ILnIFoqRA14o",
        "colab": {
          "base_uri": "https://localhost:8080/"
        },
        "outputId": "43198e82-3312-4b1d-fbcf-7abf5f4943ad"
      },
      "execution_count": null,
      "outputs": [
        {
          "output_type": "stream",
          "name": "stdout",
          "text": [
            "Drive already mounted at /content/drive; to attempt to forcibly remount, call drive.mount(\"/content/drive\", force_remount=True).\n",
            "/content/drive/MyDrive/SE4AI-Quantum/Q-DELOREAN\n"
          ]
        }
      ]
    },
    {
      "cell_type": "markdown",
      "source": [
        "## Import Libraries and Frameworks"
      ],
      "metadata": {
        "id": "xzUAn27ZLx4c"
      }
    },
    {
      "cell_type": "code",
      "source": [
        "import pandas as pd\n",
        "import numpy as np\n",
        "\n",
        "\n",
        "from gensim.models import Word2Vec\n",
        "from sklearn.model_selection import train_test_split\n",
        "from sklearn.preprocessing import LabelEncoder\n",
        "from keras.models import Sequential\n",
        "from keras.layers import Dense, Dropout\n",
        "from keras.utils import np_utils"
      ],
      "metadata": {
        "id": "hwAOBOmQqR6j"
      },
      "execution_count": null,
      "outputs": []
    },
    {
      "cell_type": "markdown",
      "source": [
        "## Load data"
      ],
      "metadata": {
        "id": "KEpcgyR8IDN-"
      }
    },
    {
      "cell_type": "code",
      "source": [
        "DATASET_PATH = 'data/processed/promise-reclass_normalized.csv'\n",
        "df = pd.read_csv(DATASET_PATH, index_col=False, nrows=None)\n",
        "\n",
        "X_column = 'RequirementText'\n",
        "y_column = 'Class'\n",
        "\n",
        "X = df[X_column]\n",
        "y = df[y_column]"
      ],
      "metadata": {
        "id": "SWkmpUmOY9s7"
      },
      "execution_count": null,
      "outputs": []
    },
    {
      "cell_type": "markdown",
      "source": [
        "## Encoding"
      ],
      "metadata": {
        "id": "Alzsw55hZ0Hg"
      }
    },
    {
      "cell_type": "code",
      "source": [
        "le = LabelEncoder()\n",
        "y_encoded = le.fit_transform(y)\n",
        "y_one_hot = np_utils.to_categorical(y_encoded)"
      ],
      "metadata": {
        "id": "OB1GDd4nZ7hG"
      },
      "execution_count": null,
      "outputs": []
    },
    {
      "cell_type": "code",
      "source": [],
      "metadata": {
        "id": "cajKaJnOaPAb"
      },
      "execution_count": null,
      "outputs": []
    },
    {
      "cell_type": "code",
      "source": [
        "VECTOR_SIZE = 100\n",
        "SEED = 42\n",
        "\n",
        "X_train, X_test, y_train, y_test = train_test_split(X, y_one_hot, test_size=0.2, random_state=SEED)\n",
        "\n",
        "sentences = [sentence.split() for sentence in X_train]\n",
        "w2v_model = Word2Vec(sentences, vector_size=VECTOR_SIZE, seed=SEED)"
      ],
      "metadata": {
        "id": "iRF0kx30Z-kn"
      },
      "execution_count": null,
      "outputs": []
    },
    {
      "cell_type": "code",
      "source": [
        "def sentence_vector(sentence):\n",
        "    vec = np.zeros(VECTOR_SIZE)\n",
        "    num_words = 0\n",
        "    for word in sentence:\n",
        "        if word in w2v_model.wv.key_to_index:\n",
        "            vec += w2v_model.wv.get_vector(word)\n",
        "            num_words += 1\n",
        "    if num_words > 0:\n",
        "        vec /= num_words\n",
        "    return vec\n",
        "\n",
        "X_train_vectors = np.array([sentence_vector(sentence.split()) for sentence in X_train])\n",
        "X_test_vectors = np.array([sentence_vector(sentence.split()) for sentence in X_test])"
      ],
      "metadata": {
        "id": "cE3XHrlT-EY-"
      },
      "execution_count": null,
      "outputs": []
    },
    {
      "cell_type": "markdown",
      "source": [
        "## Training"
      ],
      "metadata": {
        "id": "Jhg6Bc8gaV8T"
      }
    },
    {
      "cell_type": "markdown",
      "source": [
        "### Define model"
      ],
      "metadata": {
        "id": "OrdpwdgZaa1h"
      }
    },
    {
      "cell_type": "code",
      "source": [
        "model = Sequential()\n",
        "model.add(Dense(128, input_dim=VECTOR_SIZE, activation='relu'))\n",
        "model.add(Dense(64, input_dim=VECTOR_SIZE, activation='relu'))\n",
        "model.add(Dropout(0.5))\n",
        "model.add(Dense(32, input_dim=VECTOR_SIZE, activation='relu'))\n",
        "model.add(Dropout(0.5))\n",
        "model.add(Dense(2, activation='sigmoid'))\n",
        "\n",
        "model.compile(loss='categorical_crossentropy', optimizer='adam', metrics=['accuracy'])"
      ],
      "metadata": {
        "id": "f6tGQJN7act2"
      },
      "execution_count": null,
      "outputs": []
    },
    {
      "cell_type": "markdown",
      "source": [
        "### Train model"
      ],
      "metadata": {
        "id": "CA3ohi3lahsb"
      }
    },
    {
      "cell_type": "code",
      "source": [
        "EPOCHS = 50\n",
        "BATCH_SIZE = 32\n",
        "\n",
        "model.fit(X_train_vectors, y_train, validation_data=(X_test_vectors, y_test), epochs=EPOCHS, batch_size=BATCH_SIZE)"
      ],
      "metadata": {
        "colab": {
          "base_uri": "https://localhost:8080/"
        },
        "id": "EENwlBNSagbp",
        "outputId": "d7309506-a4c5-403d-9377-070e79f845cb"
      },
      "execution_count": null,
      "outputs": [
        {
          "output_type": "stream",
          "name": "stdout",
          "text": [
            "Epoch 1/50\n",
            "12/12 [==============================] - 2s 22ms/step - loss: 0.6942 - accuracy: 0.4313 - val_loss: 0.6928 - val_accuracy: 0.5269\n",
            "Epoch 2/50\n",
            "12/12 [==============================] - 0s 8ms/step - loss: 0.6927 - accuracy: 0.5229 - val_loss: 0.6920 - val_accuracy: 0.5269\n",
            "Epoch 3/50\n",
            "12/12 [==============================] - 0s 5ms/step - loss: 0.6900 - accuracy: 0.5553 - val_loss: 0.6914 - val_accuracy: 0.5269\n",
            "Epoch 4/50\n",
            "12/12 [==============================] - 0s 5ms/step - loss: 0.6872 - accuracy: 0.5553 - val_loss: 0.6911 - val_accuracy: 0.5269\n",
            "Epoch 5/50\n",
            "12/12 [==============================] - 0s 7ms/step - loss: 0.6879 - accuracy: 0.5553 - val_loss: 0.6904 - val_accuracy: 0.5269\n",
            "Epoch 6/50\n",
            "12/12 [==============================] - 0s 7ms/step - loss: 0.6868 - accuracy: 0.5553 - val_loss: 0.6899 - val_accuracy: 0.5269\n",
            "Epoch 7/50\n",
            "12/12 [==============================] - 0s 7ms/step - loss: 0.6869 - accuracy: 0.5553 - val_loss: 0.6889 - val_accuracy: 0.5269\n",
            "Epoch 8/50\n",
            "12/12 [==============================] - 0s 7ms/step - loss: 0.6817 - accuracy: 0.5553 - val_loss: 0.6887 - val_accuracy: 0.5269\n",
            "Epoch 9/50\n",
            "12/12 [==============================] - 0s 5ms/step - loss: 0.6814 - accuracy: 0.5526 - val_loss: 0.6861 - val_accuracy: 0.5269\n",
            "Epoch 10/50\n",
            "12/12 [==============================] - 0s 7ms/step - loss: 0.6853 - accuracy: 0.5553 - val_loss: 0.6826 - val_accuracy: 0.5269\n",
            "Epoch 11/50\n",
            "12/12 [==============================] - 0s 7ms/step - loss: 0.6787 - accuracy: 0.5687 - val_loss: 0.6785 - val_accuracy: 0.5269\n",
            "Epoch 12/50\n",
            "12/12 [==============================] - 0s 7ms/step - loss: 0.6708 - accuracy: 0.5660 - val_loss: 0.6750 - val_accuracy: 0.5269\n",
            "Epoch 13/50\n",
            "12/12 [==============================] - 0s 7ms/step - loss: 0.6705 - accuracy: 0.5795 - val_loss: 0.6643 - val_accuracy: 0.5376\n",
            "Epoch 14/50\n",
            "12/12 [==============================] - 0s 8ms/step - loss: 0.6580 - accuracy: 0.5849 - val_loss: 0.6535 - val_accuracy: 0.5591\n",
            "Epoch 15/50\n",
            "12/12 [==============================] - 0s 8ms/step - loss: 0.6516 - accuracy: 0.6469 - val_loss: 0.6434 - val_accuracy: 0.5484\n",
            "Epoch 16/50\n",
            "12/12 [==============================] - 0s 7ms/step - loss: 0.6303 - accuracy: 0.6496 - val_loss: 0.6282 - val_accuracy: 0.5699\n",
            "Epoch 17/50\n",
            "12/12 [==============================] - 0s 6ms/step - loss: 0.6037 - accuracy: 0.6658 - val_loss: 0.5943 - val_accuracy: 0.8065\n",
            "Epoch 18/50\n",
            "12/12 [==============================] - 0s 7ms/step - loss: 0.5755 - accuracy: 0.7466 - val_loss: 0.5635 - val_accuracy: 0.7742\n",
            "Epoch 19/50\n",
            "12/12 [==============================] - 0s 6ms/step - loss: 0.5478 - accuracy: 0.7305 - val_loss: 0.5347 - val_accuracy: 0.7742\n",
            "Epoch 20/50\n",
            "12/12 [==============================] - 0s 8ms/step - loss: 0.5261 - accuracy: 0.7709 - val_loss: 0.5172 - val_accuracy: 0.7849\n",
            "Epoch 21/50\n",
            "12/12 [==============================] - 0s 6ms/step - loss: 0.5043 - accuracy: 0.7898 - val_loss: 0.5172 - val_accuracy: 0.7957\n",
            "Epoch 22/50\n",
            "12/12 [==============================] - 0s 6ms/step - loss: 0.4639 - accuracy: 0.8140 - val_loss: 0.4596 - val_accuracy: 0.8172\n",
            "Epoch 23/50\n",
            "12/12 [==============================] - 0s 7ms/step - loss: 0.4609 - accuracy: 0.8140 - val_loss: 0.4630 - val_accuracy: 0.8065\n",
            "Epoch 24/50\n",
            "12/12 [==============================] - 0s 6ms/step - loss: 0.4449 - accuracy: 0.8437 - val_loss: 0.4490 - val_accuracy: 0.7957\n",
            "Epoch 25/50\n",
            "12/12 [==============================] - 0s 5ms/step - loss: 0.4212 - accuracy: 0.8329 - val_loss: 0.4281 - val_accuracy: 0.8172\n",
            "Epoch 26/50\n",
            "12/12 [==============================] - 0s 6ms/step - loss: 0.4179 - accuracy: 0.8059 - val_loss: 0.5128 - val_accuracy: 0.7957\n",
            "Epoch 27/50\n",
            "12/12 [==============================] - 0s 6ms/step - loss: 0.4268 - accuracy: 0.8356 - val_loss: 0.4156 - val_accuracy: 0.8172\n",
            "Epoch 28/50\n",
            "12/12 [==============================] - 0s 6ms/step - loss: 0.3950 - accuracy: 0.8571 - val_loss: 0.4408 - val_accuracy: 0.8280\n",
            "Epoch 29/50\n",
            "12/12 [==============================] - 0s 7ms/step - loss: 0.3713 - accuracy: 0.8464 - val_loss: 0.4127 - val_accuracy: 0.8495\n",
            "Epoch 30/50\n",
            "12/12 [==============================] - 0s 6ms/step - loss: 0.3952 - accuracy: 0.8410 - val_loss: 0.4245 - val_accuracy: 0.8387\n",
            "Epoch 31/50\n",
            "12/12 [==============================] - 0s 6ms/step - loss: 0.3814 - accuracy: 0.8356 - val_loss: 0.4057 - val_accuracy: 0.8172\n",
            "Epoch 32/50\n",
            "12/12 [==============================] - 0s 7ms/step - loss: 0.3901 - accuracy: 0.8464 - val_loss: 0.4005 - val_accuracy: 0.8280\n",
            "Epoch 33/50\n",
            "12/12 [==============================] - 0s 6ms/step - loss: 0.4043 - accuracy: 0.8410 - val_loss: 0.4275 - val_accuracy: 0.8495\n",
            "Epoch 34/50\n",
            "12/12 [==============================] - 0s 7ms/step - loss: 0.3835 - accuracy: 0.8437 - val_loss: 0.4317 - val_accuracy: 0.8495\n",
            "Epoch 35/50\n",
            "12/12 [==============================] - 0s 7ms/step - loss: 0.3580 - accuracy: 0.8598 - val_loss: 0.4307 - val_accuracy: 0.8495\n",
            "Epoch 36/50\n",
            "12/12 [==============================] - 0s 7ms/step - loss: 0.3829 - accuracy: 0.8491 - val_loss: 0.4046 - val_accuracy: 0.8065\n",
            "Epoch 37/50\n",
            "12/12 [==============================] - 0s 5ms/step - loss: 0.3743 - accuracy: 0.8491 - val_loss: 0.3969 - val_accuracy: 0.8495\n",
            "Epoch 38/50\n",
            "12/12 [==============================] - 0s 6ms/step - loss: 0.3684 - accuracy: 0.8464 - val_loss: 0.3970 - val_accuracy: 0.8495\n",
            "Epoch 39/50\n",
            "12/12 [==============================] - 0s 6ms/step - loss: 0.3618 - accuracy: 0.8598 - val_loss: 0.3896 - val_accuracy: 0.8495\n",
            "Epoch 40/50\n",
            "12/12 [==============================] - 0s 5ms/step - loss: 0.3754 - accuracy: 0.8625 - val_loss: 0.4067 - val_accuracy: 0.8387\n",
            "Epoch 41/50\n",
            "12/12 [==============================] - 0s 7ms/step - loss: 0.3256 - accuracy: 0.8922 - val_loss: 0.3994 - val_accuracy: 0.8387\n",
            "Epoch 42/50\n",
            "12/12 [==============================] - 0s 7ms/step - loss: 0.3137 - accuracy: 0.8841 - val_loss: 0.3892 - val_accuracy: 0.8710\n",
            "Epoch 43/50\n",
            "12/12 [==============================] - 0s 6ms/step - loss: 0.3208 - accuracy: 0.8679 - val_loss: 0.3866 - val_accuracy: 0.8710\n",
            "Epoch 44/50\n",
            "12/12 [==============================] - 0s 7ms/step - loss: 0.3326 - accuracy: 0.8868 - val_loss: 0.3839 - val_accuracy: 0.8602\n",
            "Epoch 45/50\n",
            "12/12 [==============================] - 0s 7ms/step - loss: 0.3178 - accuracy: 0.8868 - val_loss: 0.4086 - val_accuracy: 0.8387\n",
            "Epoch 46/50\n",
            "12/12 [==============================] - 0s 5ms/step - loss: 0.3155 - accuracy: 0.8787 - val_loss: 0.4165 - val_accuracy: 0.8602\n",
            "Epoch 47/50\n",
            "12/12 [==============================] - 0s 7ms/step - loss: 0.3323 - accuracy: 0.8760 - val_loss: 0.3955 - val_accuracy: 0.8387\n",
            "Epoch 48/50\n",
            "12/12 [==============================] - 0s 7ms/step - loss: 0.3309 - accuracy: 0.8787 - val_loss: 0.3989 - val_accuracy: 0.8495\n",
            "Epoch 49/50\n",
            "12/12 [==============================] - 0s 5ms/step - loss: 0.3304 - accuracy: 0.8841 - val_loss: 0.4107 - val_accuracy: 0.8172\n",
            "Epoch 50/50\n",
            "12/12 [==============================] - 0s 5ms/step - loss: 0.3312 - accuracy: 0.8922 - val_loss: 0.3915 - val_accuracy: 0.8495\n"
          ]
        },
        {
          "output_type": "execute_result",
          "data": {
            "text/plain": [
              "<keras.callbacks.History at 0x7f7a6ef41c00>"
            ]
          },
          "metadata": {},
          "execution_count": 39
        }
      ]
    },
    {
      "cell_type": "markdown",
      "source": [
        "## Testing & Results"
      ],
      "metadata": {
        "id": "q_oF93uiavU8"
      }
    },
    {
      "cell_type": "code",
      "source": [
        "from sklearn.metrics import confusion_matrix, f1_score\n",
        "\n",
        "predictions = model.predict(X_test_vectors)\n",
        "predicted_classes = np.argmax(predictions, axis=1)\n",
        "true_classes = np.argmax(y_test, axis=1)\n",
        "\n",
        "f1 = f1_score(true_classes, predicted_classes)\n",
        "loss, accuracy = model.evaluate(X_test_vectors, y_test)\n",
        "\n",
        "cm = confusion_matrix(true_classes, predicted_classes)\n",
        "\n",
        "print(\"F1 Score:\", f1)\n",
        "print(\"Loss:\", loss)\n",
        "print(\"Accuracy:\", accuracy)"
      ],
      "metadata": {
        "colab": {
          "base_uri": "https://localhost:8080/"
        },
        "id": "1hNxyzHyau6o",
        "outputId": "e0162889-1d4d-4ddd-a715-aacbfcd3bf7e"
      },
      "execution_count": null,
      "outputs": [
        {
          "output_type": "stream",
          "name": "stdout",
          "text": [
            "3/3 [==============================] - 0s 7ms/step\n",
            "3/3 [==============================] - 0s 8ms/step - loss: 0.3915 - accuracy: 0.8495\n",
            "F1 Score: 0.8627450980392157\n",
            "Loss: 0.3914594054222107\n",
            "Accuracy: 0.8494623899459839\n"
          ]
        }
      ]
    },
    {
      "cell_type": "code",
      "source": [
        "import seaborn as sns\n",
        "import matplotlib.pyplot as plt\n",
        "\n",
        "plt.figure(figsize=(4, 3))\n",
        "sns.heatmap(cm, annot=True, cmap=\"Blues\", fmt=\"d\")\n",
        "plt.title(\"Confusion Matrix - Test set\")\n",
        "plt.xlabel(\"Predicted Labels\")\n",
        "plt.ylabel(\"True Labels\")\n",
        "plt.show()"
      ],
      "metadata": {
        "id": "tzCmW_kItzeT",
        "outputId": "a3138ce8-83fa-4b6d-f503-84855acc3ae2",
        "colab": {
          "base_uri": "https://localhost:8080/"
        }
      },
      "execution_count": null,
      "outputs": [
        {
          "output_type": "display_data",
          "data": {
            "text/plain": [
              "<Figure size 400x300 with 2 Axes>"
            ],
            "image/png": "[encoded data removed]"
          },
          "metadata": {}
        }
      ]
    }
  ]
}